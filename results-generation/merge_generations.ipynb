{
 "cells": [
  {
   "cell_type": "markdown",
   "metadata": {},
   "source": [
    "# Merge ALL freqs"
   ]
  },
  {
   "cell_type": "code",
   "execution_count": 1,
   "metadata": {},
   "outputs": [],
   "source": [
    "import pandas as pd"
   ]
  },
  {
   "cell_type": "code",
   "execution_count": 2,
   "metadata": {},
   "outputs": [],
   "source": [
    "all_freqs_p = \"freqs/all/all-freqs-sketchengine.csv\"\n",
    "andrea_freqs = \"freqs/all/all-freqs-sketchengine-andrea.csv\"\n",
    "giulia_freqs = \"freqs/all/all-freqs-sketchengine-giulia.csv\"\n",
    "giulia2_freqs = \"freqs/all/all-freqs-sketchengine-giulia2.csv\"\n",
    "cate_freqs = \"freqs/all/all-freqs-sketchengine-caterina.csv\""
   ]
  },
  {
   "cell_type": "code",
   "execution_count": 3,
   "metadata": {},
   "outputs": [],
   "source": [
    "all_df = pd.read_csv(all_freqs_p)\n",
    "\n",
    "# save a backup copy of original freqs\n",
    "all_df.to_csv(f\"{all_freqs_p}.bak\", index=False)\n",
    "\n",
    "andrea_df = pd.read_csv(andrea_freqs)\n",
    "giulia_df = pd.read_csv(giulia_freqs)\n",
    "giulia2_df = pd.read_csv(giulia2_freqs)\n",
    "cate_df = pd.read_csv(cate_freqs)\n",
    "\n",
    "\n",
    "new_df = pd.concat([all_df, andrea_df, giulia_df, cate_df, giulia2_df])\n",
    "new_df = new_df.drop_duplicates(subset=\"exemplar\")  # drop duplicated exemplars\n",
    "\n",
    "new_df.to_csv(all_freqs_p, index=False)\n"
   ]
  }
 ],
 "metadata": {
  "kernelspec": {
   "display_name": "latestorch",
   "language": "python",
   "name": "python3"
  },
  "language_info": {
   "codemirror_mode": {
    "name": "ipython",
    "version": 3
   },
   "file_extension": ".py",
   "mimetype": "text/x-python",
   "name": "python",
   "nbconvert_exporter": "python",
   "pygments_lexer": "ipython3",
   "version": "3.9.19"
  }
 },
 "nbformat": 4,
 "nbformat_minor": 2
}
