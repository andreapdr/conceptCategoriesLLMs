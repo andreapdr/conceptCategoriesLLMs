{
 "cells": [
  {
   "cell_type": "code",
   "execution_count": null,
   "metadata": {},
   "outputs": [],
   "source": [
    "import pandas as pd\n",
    "from glob import glob\n",
    "import os"
   ]
  },
  {
   "cell_type": "code",
   "execution_count": 34,
   "metadata": {},
   "outputs": [],
   "source": [
    "freqs = pd.read_csv(\"freqs/all/all-freqs-sketchengine.csv\")\n",
    "freqs = freqs.set_index(\"exemplar\")"
   ]
  },
  {
   "cell_type": "code",
   "execution_count": 69,
   "metadata": {},
   "outputs": [],
   "source": [
    "folders = [f for f in glob(\"freqs/*\") if f != \"freqs/all\"]"
   ]
  },
  {
   "cell_type": "code",
   "execution_count": null,
   "metadata": {},
   "outputs": [],
   "source": [
    "basedir = \"italian/formatted\"\n",
    "\n",
    "for temp in [\"temp_00\", \"temp_05\", \"temp_10\"]:\n",
    "    filepath = os.path.join(basedir, temp)\n",
    "    out_filepath = filepath + \"_wfreqs\"\n",
    "    filenames = glob(f\"{filepath}/*.csv\")\n",
    "    os.makedirs(out_filepath, exist_ok=True)\n",
    "    for fn in filenames:\n",
    "        df = pd.read_csv(fn)\n",
    "\n",
    "        df_freqs = []\n",
    "        for i, row in df.iterrows():\n",
    "            if row.exemplar in freqs.index:\n",
    "                df_freqs.append(freqs.loc[row.exemplar].abs_freq)\n",
    "            elif row.exemplar in freqs.index:\n",
    "                df_freqs.append(freqs.loc[row.clean_exemplar].abs_freq)\n",
    "            else:\n",
    "                df_freqs.append(None)\n",
    "        \n",
    "        df[\"asb_freq\"] = df_freqs\n",
    "\n",
    "        df.to_csv(fn.replace(temp, temp + \"_wfreqs\"), index=False)"
   ]
  }
 ],
 "metadata": {
  "kernelspec": {
   "display_name": "latestorch",
   "language": "python",
   "name": "python3"
  },
  "language_info": {
   "codemirror_mode": {
    "name": "ipython",
    "version": 3
   },
   "file_extension": ".py",
   "mimetype": "text/x-python",
   "name": "python",
   "nbconvert_exporter": "python",
   "pygments_lexer": "ipython3",
   "version": "3.9.19"
  }
 },
 "nbformat": 4,
 "nbformat_minor": 2
}
