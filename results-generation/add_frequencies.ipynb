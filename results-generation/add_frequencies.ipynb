{
 "cells": [
  {
   "cell_type": "code",
   "execution_count": 1,
   "metadata": {},
   "outputs": [],
   "source": [
    "import pandas as pd\n",
    "from glob import glob\n",
    "import os"
   ]
  },
  {
   "cell_type": "code",
   "execution_count": 2,
   "metadata": {},
   "outputs": [],
   "source": [
    "freqs = pd.read_csv(\"freqs/all/all-freqs-sketchengine.csv\")\n",
    "freqs = freqs.set_index(\"exemplar\")"
   ]
  },
  {
   "cell_type": "code",
   "execution_count": null,
   "metadata": {},
   "outputs": [],
   "source": [
    "basedir =   \"italian/stats\"\n",
    "outdir =    \"italian/stats_wfreqs\"\n",
    "\n",
    "os.makedirs(outdir, exist_ok=True)\n",
    "\n",
    "for fn in glob(basedir + \"/*.csv\"):\n",
    "    df = pd.read_csv(fn)\n",
    "\n",
    "    df_freqs = []\n",
    "    for i, row in df.iterrows():\n",
    "        if row.exemplar in freqs.index:\n",
    "            df_freqs.append(freqs.loc[row.exemplar].abs_freq)\n",
    "        elif row.exemplar in freqs.index:\n",
    "            df_freqs.append(freqs.loc[row.clean_exemplar].abs_freq)\n",
    "        else:\n",
    "            df_freqs.append(None)\n",
    "    \n",
    "    df[\"abs_freq\"] = df_freqs\n",
    "\n",
    "    df.to_csv(fn.replace(basedir, outdir), index=False)"
   ]
  },
  {
   "cell_type": "code",
   "execution_count": 9,
   "metadata": {},
   "outputs": [
    {
     "data": {
      "text/plain": [
       "'italian/stats_wfreqs/mixtral-it-textual-temp_10_alliters.stats.csv'"
      ]
     },
     "execution_count": 9,
     "metadata": {},
     "output_type": "execute_result"
    }
   ],
   "source": [
    "fn.replace(basedir, outdir)"
   ]
  },
  {
   "cell_type": "code",
   "execution_count": 8,
   "metadata": {},
   "outputs": [
    {
     "data": {
      "text/plain": [
       "'italian/stats_wfreqs'"
      ]
     },
     "execution_count": 8,
     "metadata": {},
     "output_type": "execute_result"
    }
   ],
   "source": [
    "outdir"
   ]
  },
  {
   "cell_type": "code",
   "execution_count": 5,
   "metadata": {},
   "outputs": [
    {
     "data": {
      "text/plain": [
       "['italian/stats/mixtral-it-textual-temp_10_alliters.stats.csv',\n",
       " 'italian/stats/nemo-it-textual-temp_05_alliters.stats.csv',\n",
       " 'italian/stats/mixtral-it-textual-temp_00_alliters.stats.csv',\n",
       " 'italian/stats/nemo-it-textual-temp_00_alliters.stats.csv',\n",
       " 'italian/stats/llama3.2-it-textual-temp_10_alliters.stats.csv',\n",
       " 'italian/stats/llama3.1-it-textual-temp_00_alliters.stats.csv',\n",
       " 'italian/stats/mixtral-it-textual-temp_05_alliters.stats.csv',\n",
       " 'italian/stats/idefics2-it-textual-temp_00_alliters.stats.csv',\n",
       " 'italian/stats/idefics2-it-visual-temp_05_alliters.stats.csv',\n",
       " 'italian/stats/idefics2-it-textual-temp_05_alliters.stats.csv',\n",
       " 'italian/stats/mistral-it-textual-temp_05_alliters.stats.csv',\n",
       " 'italian/stats/llava-it-textual-temp_10_alliters.stats.csv',\n",
       " 'italian/stats/llama3.1-70b-it-textual-temp_05_alliters.stats.csv',\n",
       " 'italian/stats/llama3.1-it-textual-temp_05_alliters.stats.csv',\n",
       " 'italian/stats/llava-it-visual-temp_10_alliters.stats.csv',\n",
       " 'italian/stats/llama3.1-it-textual-temp_10_alliters.stats.csv',\n",
       " 'italian/stats/llava-it-textual-temp_05_alliters.stats.csv',\n",
       " 'italian/stats/llava-it-textual-temp_00_alliters.stats.csv',\n",
       " 'italian/stats/nemo-it-textual-temp_10_alliters.stats.csv',\n",
       " 'italian/stats/llama3.2-it-textual-temp_05_alliters.stats.csv',\n",
       " 'italian/stats/llama3.2-it-textual-temp_00_alliters.stats.csv',\n",
       " 'italian/stats/idefics2-it-textual-temp_10_alliters.stats.csv',\n",
       " 'italian/stats/llama3.1-70b-it-textual-temp_10_alliters.stats.csv',\n",
       " 'italian/stats/llama3.1-70b-it-textual-temp_00_alliters.stats.csv',\n",
       " 'italian/stats/idefics2-it-visual-temp_10_alliters.stats.csv',\n",
       " 'italian/stats/llava-it-visual-temp_05_alliters.stats.csv',\n",
       " 'italian/stats/idefics2-it-visual-temp_00_alliters.stats.csv',\n",
       " 'italian/stats/mistral-it-textual-temp_10_alliters.stats.csv',\n",
       " 'italian/stats/llava-it-visual-temp_00_alliters.stats.csv',\n",
       " 'italian/stats/mistral-it-textual-temp_00_alliters.stats.csv']"
      ]
     },
     "execution_count": 5,
     "metadata": {},
     "output_type": "execute_result"
    }
   ],
   "source": [
    "basedir = \"italian/stats\"\n",
    "\n",
    "glob(basedir + \"/*.csv\")"
   ]
  }
 ],
 "metadata": {
  "kernelspec": {
   "display_name": "latestorch",
   "language": "python",
   "name": "python3"
  },
  "language_info": {
   "codemirror_mode": {
    "name": "ipython",
    "version": 3
   },
   "file_extension": ".py",
   "mimetype": "text/x-python",
   "name": "python",
   "nbconvert_exporter": "python",
   "pygments_lexer": "ipython3",
   "version": "3.9.19"
  }
 },
 "nbformat": 4,
 "nbformat_minor": 2
}
