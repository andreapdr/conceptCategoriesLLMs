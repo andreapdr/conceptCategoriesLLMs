{
 "cells": [
  {
   "cell_type": "code",
   "execution_count": 24,
   "metadata": {},
   "outputs": [],
   "source": [
    "import pandas as pd\n",
    "from glob import glob\n",
    "import os"
   ]
  },
  {
   "cell_type": "code",
   "execution_count": 25,
   "metadata": {},
   "outputs": [],
   "source": [
    "freqs = pd.read_csv(\"freqs/all/all-freqs-sketchengine.csv\")\n",
    "freqs = freqs.set_index(\"exemplar\")"
   ]
  },
  {
   "cell_type": "code",
   "execution_count": 26,
   "metadata": {},
   "outputs": [],
   "source": [
    "basedir =   \"italian/stats\"\n",
    "outdir =    \"italian/stats_wfreqs\"\n",
    "\n",
    "os.makedirs(outdir, exist_ok=True)\n",
    "\n",
    "for fn in glob(basedir + \"/*.csv\"):\n",
    "    df = pd.read_csv(fn)\n",
    "\n",
    "    df_freqs = []\n",
    "    for i, row in df.iterrows():\n",
    "        concept_exemplar = row.concept_exemplar.split(\"_\")[-1]\n",
    "        exemplar = row.exemplar\n",
    "        if concept_exemplar in freqs.index:\n",
    "            df_freqs.append(freqs.loc[concept_exemplar].abs_freq)\n",
    "        elif exemplar in freqs.index:\n",
    "            df_freqs.append(freqs.loc[exemplar].abs_freq)\n",
    "        else:\n",
    "            df_freqs.append(None)\n",
    "    \n",
    "    df[\"abs_freq\"] = df_freqs\n",
    "\n",
    "    df.to_csv(fn.replace(basedir, outdir), index=False)"
   ]
  }
 ],
 "metadata": {
  "kernelspec": {
   "display_name": "latestorch",
   "language": "python",
   "name": "python3"
  },
  "language_info": {
   "codemirror_mode": {
    "name": "ipython",
    "version": 3
   },
   "file_extension": ".py",
   "mimetype": "text/x-python",
   "name": "python",
   "nbconvert_exporter": "python",
   "pygments_lexer": "ipython3",
   "version": "3.9.19"
  }
 },
 "nbformat": 4,
 "nbformat_minor": 2
}
